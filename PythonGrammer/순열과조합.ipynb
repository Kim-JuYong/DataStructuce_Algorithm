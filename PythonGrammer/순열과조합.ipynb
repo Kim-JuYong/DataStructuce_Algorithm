{
 "cells": [
  {
   "cell_type": "markdown",
   "id": "f14de587",
   "metadata": {},
   "source": [
    "# 순열과 조합\n",
    "---\n",
    "### 순열: permutations\n",
    "---"
   ]
  },
  {
   "cell_type": "code",
   "execution_count": 1,
   "id": "e750839f",
   "metadata": {},
   "outputs": [
    {
     "name": "stdout",
     "output_type": "stream",
     "text": [
      "[(1, 2), (1, 3), (1, 4), (2, 1), (2, 3), (2, 4), (3, 1), (3, 2), (3, 4), (4, 1), (4, 2), (4, 3)]\n"
     ]
    }
   ],
   "source": [
    "from itertools import permutations\n",
    "\n",
    "ret = []\n",
    "for i in permutations([1,2,3,4], 2):\n",
    "    ret.append(i)\n",
    "print(ret)"
   ]
  },
  {
   "cell_type": "markdown",
   "id": "56323ee5",
   "metadata": {},
   "source": [
    "### 조합: combinations\n",
    "---"
   ]
  },
  {
   "cell_type": "code",
   "execution_count": 2,
   "id": "cfb6a309",
   "metadata": {},
   "outputs": [
    {
     "name": "stdout",
     "output_type": "stream",
     "text": [
      "[(1, 2), (1, 3), (1, 4), (2, 3), (2, 4), (3, 4)]\n"
     ]
    }
   ],
   "source": [
    "from itertools import combinations\n",
    "\n",
    "ret = []\n",
    "for i in combinations([1,2,3,4], 2):\n",
    "    ret.append(i)\n",
    "print(ret)"
   ]
  },
  {
   "cell_type": "markdown",
   "id": "118ae422",
   "metadata": {},
   "source": [
    "### 중복 순열: product\n",
    "---"
   ]
  },
  {
   "cell_type": "code",
   "execution_count": 5,
   "id": "6271f223",
   "metadata": {},
   "outputs": [
    {
     "name": "stdout",
     "output_type": "stream",
     "text": [
      "[(1, 'a'), (1, 'b'), (2, 'a'), (2, 'b'), (3, 'a'), (3, 'b')]\n",
      "[(1, 1), (1, 2), (1, 3), (2, 1), (2, 2), (2, 3), (3, 1), (3, 2), (3, 3)]\n"
     ]
    }
   ],
   "source": [
    "from itertools import product\n",
    "\n",
    "ret = []\n",
    "for i in product([1,2,3],'ab'):\n",
    "    ret.append(i)\n",
    "print(ret)\n",
    "\n",
    "ret = []\n",
    "for i in product([1,2,3], repeat=2):\n",
    "    ret.append(i)\n",
    "print(ret)"
   ]
  },
  {
   "cell_type": "markdown",
   "id": "e776af53",
   "metadata": {},
   "source": [
    "### 중복 조합: combinations_with_replacement"
   ]
  },
  {
   "cell_type": "code",
   "execution_count": 6,
   "id": "11e140e2",
   "metadata": {},
   "outputs": [
    {
     "name": "stdout",
     "output_type": "stream",
     "text": [
      "[(1, 1), (1, 2), (1, 3), (1, 4), (2, 2), (2, 3), (2, 4), (3, 3), (3, 4), (4, 4)]\n"
     ]
    }
   ],
   "source": [
    "from itertools import combinations_with_replacement\n",
    "\n",
    "ret = []\n",
    "for i in combinations_with_replacement([1,2,3,4], 2):\n",
    "    ret.append(i)\n",
    "print(ret)"
   ]
  },
  {
   "cell_type": "code",
   "execution_count": 8,
   "id": "746b2b2d",
   "metadata": {},
   "outputs": [
    {
     "ename": "IndexError",
     "evalue": "list assignment index out of range",
     "output_type": "error",
     "traceback": [
      "\u001b[0;31m---------------------------------------------------------------------------\u001b[0m",
      "\u001b[0;31mIndexError\u001b[0m                                Traceback (most recent call last)",
      "Input \u001b[0;32mIn [8]\u001b[0m, in \u001b[0;36m<module>\u001b[0;34m\u001b[0m\n\u001b[1;32m     15\u001b[0m \u001b[38;5;28;01mfor\u001b[39;00m i \u001b[38;5;129;01min\u001b[39;00m \u001b[38;5;28mrange\u001b[39m(\u001b[38;5;241m1\u001b[39m, offset \u001b[38;5;241m+\u001b[39m \u001b[38;5;241m1\u001b[39m):\n\u001b[1;32m     16\u001b[0m     \u001b[38;5;28;01mif\u001b[39;00m arr[i] \u001b[38;5;241m==\u001b[39m \u001b[38;5;241m0\u001b[39m:\n\u001b[0;32m---> 17\u001b[0m         \u001b[43md\u001b[49m\u001b[43m(\u001b[49m\u001b[43mi\u001b[49m\u001b[43m)\u001b[49m\n\u001b[1;32m     18\u001b[0m \u001b[38;5;28mprint\u001b[39m(arr)\n",
      "Input \u001b[0;32mIn [8]\u001b[0m, in \u001b[0;36md\u001b[0;34m(num)\u001b[0m\n\u001b[1;32m      9\u001b[0m     num \u001b[38;5;241m+\u001b[39m\u001b[38;5;241m=\u001b[39m \u001b[38;5;28mint\u001b[39m(n)\n\u001b[1;32m     10\u001b[0m arr[num] \u001b[38;5;241m=\u001b[39m \u001b[38;5;241m1\u001b[39m\n\u001b[0;32m---> 11\u001b[0m \u001b[43md\u001b[49m\u001b[43m(\u001b[49m\u001b[43mnum\u001b[49m\u001b[43m)\u001b[49m\n",
      "Input \u001b[0;32mIn [8]\u001b[0m, in \u001b[0;36md\u001b[0;34m(num)\u001b[0m\n\u001b[1;32m      9\u001b[0m     num \u001b[38;5;241m+\u001b[39m\u001b[38;5;241m=\u001b[39m \u001b[38;5;28mint\u001b[39m(n)\n\u001b[1;32m     10\u001b[0m arr[num] \u001b[38;5;241m=\u001b[39m \u001b[38;5;241m1\u001b[39m\n\u001b[0;32m---> 11\u001b[0m \u001b[43md\u001b[49m\u001b[43m(\u001b[49m\u001b[43mnum\u001b[49m\u001b[43m)\u001b[49m\n",
      "    \u001b[0;31m[... skipping similar frames: d at line 11 (9 times)]\u001b[0m\n",
      "Input \u001b[0;32mIn [8]\u001b[0m, in \u001b[0;36md\u001b[0;34m(num)\u001b[0m\n\u001b[1;32m      9\u001b[0m     num \u001b[38;5;241m+\u001b[39m\u001b[38;5;241m=\u001b[39m \u001b[38;5;28mint\u001b[39m(n)\n\u001b[1;32m     10\u001b[0m arr[num] \u001b[38;5;241m=\u001b[39m \u001b[38;5;241m1\u001b[39m\n\u001b[0;32m---> 11\u001b[0m \u001b[43md\u001b[49m\u001b[43m(\u001b[49m\u001b[43mnum\u001b[49m\u001b[43m)\u001b[49m\n",
      "Input \u001b[0;32mIn [8]\u001b[0m, in \u001b[0;36md\u001b[0;34m(num)\u001b[0m\n\u001b[1;32m      8\u001b[0m \u001b[38;5;28;01mfor\u001b[39;00m n \u001b[38;5;129;01min\u001b[39;00m temp:\n\u001b[1;32m      9\u001b[0m     num \u001b[38;5;241m+\u001b[39m\u001b[38;5;241m=\u001b[39m \u001b[38;5;28mint\u001b[39m(n)\n\u001b[0;32m---> 10\u001b[0m arr[num] \u001b[38;5;241m=\u001b[39m \u001b[38;5;241m1\u001b[39m\n\u001b[1;32m     11\u001b[0m d(num)\n",
      "\u001b[0;31mIndexError\u001b[0m: list assignment index out of range"
     ]
    }
   ],
   "source": [
    "\n",
    "\n",
    "offset = 100\n",
    "arr = [0] * offset\n",
    "\n",
    "def d(num):\n",
    "    if num > offset:\n",
    "        return\n",
    "    temp = str(num)\n",
    "    for n in temp:\n",
    "        num += int(n)\n",
    "    arr[num] = 1\n",
    "    d(num)\n",
    "\n",
    "\n",
    "if __name__ == '__main__':\n",
    "    for i in range(1, offset + 1):\n",
    "        if arr[i] == 0:\n",
    "            d(i)\n",
    "    print(arr)"
   ]
  },
  {
   "cell_type": "code",
   "execution_count": null,
   "id": "85cbd5a4",
   "metadata": {},
   "outputs": [],
   "source": []
  }
 ],
 "metadata": {
  "kernelspec": {
   "display_name": "Python 3 (ipykernel)",
   "language": "python",
   "name": "python3"
  },
  "language_info": {
   "codemirror_mode": {
    "name": "ipython",
    "version": 3
   },
   "file_extension": ".py",
   "mimetype": "text/x-python",
   "name": "python",
   "nbconvert_exporter": "python",
   "pygments_lexer": "ipython3",
   "version": "3.9.9"
  }
 },
 "nbformat": 4,
 "nbformat_minor": 5
}
