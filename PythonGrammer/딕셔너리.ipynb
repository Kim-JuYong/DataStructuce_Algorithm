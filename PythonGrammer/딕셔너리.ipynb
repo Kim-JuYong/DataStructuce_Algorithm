{
 "cells": [
  {
   "cell_type": "markdown",
   "metadata": {},
   "source": [
    "# Dictionary\n",
    "---\n",
    "\n",
    "### Counter\n",
    "- 아이템에 대한 개수를 계산해 딕셔너리로 리턴하는 객체\n",
    "- key에는 아이템 값이, value는 해당 아이템의 개수가 들어있다."
   ]
  },
  {
   "cell_type": "code",
   "execution_count": 2,
   "metadata": {},
   "outputs": [
    {
     "name": "stdout",
     "output_type": "stream",
     "text": [
      "Counter({4: 3, 2: 2, 1: 1, 3: 1})\n",
      "[(4, 3)]\n"
     ]
    }
   ],
   "source": [
    "import collections\n",
    "\n",
    "a = [1, 2, 2, 3, 4, 4, 4]\n",
    "b = collections.Counter(a)\n",
    "print(b)\n",
    "print(b.most_common(1))"
   ]
  },
  {
   "cell_type": "markdown",
   "metadata": {},
   "source": []
  }
 ],
 "metadata": {
  "interpreter": {
   "hash": "ac553f4111221a704d017ada553de58b4c3bb6cadc5f31404ec2368c09ad47a7"
  },
  "kernelspec": {
   "display_name": "Python 3.9.9 ('venv': venv)",
   "language": "python",
   "name": "python3"
  },
  "language_info": {
   "codemirror_mode": {
    "name": "ipython",
    "version": 3
   },
   "file_extension": ".py",
   "mimetype": "text/x-python",
   "name": "python",
   "nbconvert_exporter": "python",
   "pygments_lexer": "ipython3",
   "version": "3.9.10"
  },
  "orig_nbformat": 4
 },
 "nbformat": 4,
 "nbformat_minor": 2
}
