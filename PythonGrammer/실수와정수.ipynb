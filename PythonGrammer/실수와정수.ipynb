{
 "cells": [
  {
   "cell_type": "markdown",
   "id": "ceef0ae2",
   "metadata": {},
   "source": [
    "# 실수\n",
    "---\n",
    "- 파이썬에서는 실수를 부동소수점으로 표현하기 때문에 원하는 연산 결과가 나오지 않는다.\n",
    "\n",
    "### 두 실수가 같은지 판단\n",
    "---"
   ]
  },
  {
   "cell_type": "code",
   "execution_count": 2,
   "id": "fab15141",
   "metadata": {},
   "outputs": [
    {
     "name": "stdout",
     "output_type": "stream",
     "text": [
      "True\n"
     ]
    }
   ],
   "source": [
    "import math\n",
    "print(math.isclose(0.1 + 0.2, 0.3))"
   ]
  },
  {
   "cell_type": "markdown",
   "id": "d05f9f0d",
   "metadata": {},
   "source": [
    "### Demical로 정확한 자리수 표현\n",
    "---"
   ]
  },
  {
   "cell_type": "code",
   "execution_count": 4,
   "id": "2f80f787",
   "metadata": {},
   "outputs": [
    {
     "name": "stdout",
     "output_type": "stream",
     "text": [
      "0.30000000000000004\n",
      "0.3\n"
     ]
    }
   ],
   "source": [
    "from decimal import Decimal\n",
    "\n",
    "print(0.1 + 0.2)\n",
    "print(float(Decimal('0.1') + Decimal('0.2')))"
   ]
  },
  {
   "cell_type": "markdown",
   "id": "66b6b47a",
   "metadata": {},
   "source": [
    "### Fraction으로 분수 표현"
   ]
  },
  {
   "cell_type": "code",
   "execution_count": 5,
   "id": "5b8c71bc",
   "metadata": {},
   "outputs": [
    {
     "name": "stdout",
     "output_type": "stream",
     "text": [
      "3.3333333333333335\n",
      "10/3\n",
      "10/3\n"
     ]
    }
   ],
   "source": [
    "from fractions import Fraction\n",
    "print(10/3)\n",
    "print(Fraction('10/3'))    # 10을 3으로 나누면 순환소수 3.33333...이지만 분수 3분의 10으로 표현\n",
    "print(Fraction(10, 3))"
   ]
  },
  {
   "cell_type": "markdown",
   "id": "e74ac32d",
   "metadata": {},
   "source": [
    "# 정수\n",
    "---\n",
    "### 2진수 8진수 16진수 다루기\n",
    "---"
   ]
  },
  {
   "cell_type": "code",
   "execution_count": 9,
   "id": "2aba1612",
   "metadata": {},
   "outputs": [
    {
     "name": "stdout",
     "output_type": "stream",
     "text": [
      "101010 0b101010\n",
      "52 0o52\n",
      "2a 0x2a\n",
      "42\n"
     ]
    }
   ],
   "source": [
    "a = 42\n",
    "print(format(a, 'b'), bin(a)) # 2진수\n",
    "print(format(a, 'o'), oct(a)) # 8진수\n",
    "print(format(a, 'x'), hex(a)) # 16진수\n",
    "print(format(a, 'd')) # 10진수\n"
   ]
  },
  {
   "cell_type": "code",
   "execution_count": null,
   "id": "32a78b10",
   "metadata": {},
   "outputs": [],
   "source": []
  }
 ],
 "metadata": {
  "kernelspec": {
   "display_name": "Python 3 (ipykernel)",
   "language": "python",
   "name": "python3"
  },
  "language_info": {
   "codemirror_mode": {
    "name": "ipython",
    "version": 3
   },
   "file_extension": ".py",
   "mimetype": "text/x-python",
   "name": "python",
   "nbconvert_exporter": "python",
   "pygments_lexer": "ipython3",
   "version": "3.9.10"
  }
 },
 "nbformat": 4,
 "nbformat_minor": 5
}
