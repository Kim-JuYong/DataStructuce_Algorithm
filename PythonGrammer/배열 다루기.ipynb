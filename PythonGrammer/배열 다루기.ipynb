{
 "cells": [
  {
   "cell_type": "markdown",
   "metadata": {},
   "source": [
    "# 배열 다루기\n",
    "---\n",
    "### 2차원 배열 시계 90도 뒤집기"
   ]
  },
  {
   "cell_type": "code",
   "execution_count": 12,
   "metadata": {},
   "outputs": [
    {
     "name": "stdout",
     "output_type": "stream",
     "text": [
      "[[7, 4, 1], [8, 5, 2], [9, 6, 3]]\n",
      "[[7, 4, 1], [8, 5, 2], [9, 6, 3]]\n"
     ]
    }
   ],
   "source": [
    "def rotate(arr):\n",
    "    n, m = len(arr), len(arr[0])\n",
    "    temp = [[0] * m for _ in range(n)]\n",
    "\n",
    "    for i in range(m):\n",
    "        for j in range(n):\n",
    "            temp[i][j] = arr[n-1-j][i]\n",
    "\n",
    "    print(temp)\n",
    "\n",
    "def rotate_zip(arr):\n",
    "    return list(map(list, zip(*arr[::-1])))\n",
    "    \n",
    "\n",
    "a = [[1, 2, 3], \n",
    "    [4, 5, 6], \n",
    "    [7, 8, 9]]\n",
    "rotate(a)\n",
    "rotate_zip(a)"
   ]
  },
  {
   "cell_type": "markdown",
   "metadata": {},
   "source": [
    "### 2차원 배열 90도 반시계 방향 뒤집기\n",
    "---"
   ]
  },
  {
   "cell_type": "code",
   "execution_count": 2,
   "metadata": {},
   "outputs": [
    {
     "name": "stdout",
     "output_type": "stream",
     "text": [
      "[[3, 6, 9], [2, 5, 8], [1, 4, 7]]\n"
     ]
    }
   ],
   "source": [
    "def rotate(arr):\n",
    "    n, m = len(arr), len(arr[0])\n",
    "    temp = [[0] * m for _ in range(n)]\n",
    "    for i in range(m):\n",
    "        for j in range(n):\n",
    "            temp[i][j] = arr[j][m-1-i]\n",
    "    print(temp)\n",
    "\n",
    "\n",
    "def rotate_zip(arr):\n",
    "    return list(map(list, zip(*arr)))[::-1]\n",
    "\n",
    "a = [[1, 2, 3],\n",
    "     [4, 5, 6],\n",
    "     [7, 8, 9]]\n",
    "rotate_zip(a)\n",
    "rotate(a)"
   ]
  },
  {
   "cell_type": "markdown",
   "metadata": {},
   "source": [
    "### 2차원 배열 최대 최소 구하기\n",
    "---"
   ]
  },
  {
   "cell_type": "code",
   "execution_count": 7,
   "metadata": {},
   "outputs": [
    {
     "name": "stdout",
     "output_type": "stream",
     "text": [
      "9\n",
      "1\n"
     ]
    }
   ],
   "source": [
    "def find_max(arr):\n",
    "    return max(map(max, arr))\n",
    "\n",
    "\n",
    "def find_min(arr):\n",
    "    return min(map(min, arr))\n",
    "\n",
    "\n",
    "a = [[1, 2, 3],\n",
    "     [4, 5, 6],\n",
    "     [7, 8, 9]]\n",
    "\n",
    "print(find_max(a))\n",
    "print(find_min(a))"
   ]
  },
  {
   "cell_type": "markdown",
   "metadata": {},
   "source": []
  }
 ],
 "metadata": {
  "interpreter": {
   "hash": "ac553f4111221a704d017ada553de58b4c3bb6cadc5f31404ec2368c09ad47a7"
  },
  "kernelspec": {
   "display_name": "Python 3.9.9 ('venv': venv)",
   "language": "python",
   "name": "python3"
  },
  "language_info": {
   "codemirror_mode": {
    "name": "ipython",
    "version": 3
   },
   "file_extension": ".py",
   "mimetype": "text/x-python",
   "name": "python",
   "nbconvert_exporter": "python",
   "pygments_lexer": "ipython3",
   "version": "3.9.10"
  },
  "orig_nbformat": 4
 },
 "nbformat": 4,
 "nbformat_minor": 2
}
