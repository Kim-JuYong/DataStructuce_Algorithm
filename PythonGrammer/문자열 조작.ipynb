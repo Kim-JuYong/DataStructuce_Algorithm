{
 "cells": [
  {
   "cell_type": "markdown",
   "id": "f918f577",
   "metadata": {},
   "source": [
    "# 문자열 다루기\n",
    "\n",
    "### 문자열 치환"
   ]
  },
  {
   "cell_type": "code",
   "execution_count": 2,
   "id": "994a8756",
   "metadata": {},
   "outputs": [
    {
     "name": "stdout",
     "output_type": "stream",
     "text": [
      ".!@BaT#*.y.abcdefghijklm\n"
     ]
    }
   ],
   "source": [
    "a = \"...!@BaT#*..y.abcdefghijklm\"\n",
    "while '..' in a:\n",
    "    a = a.replace('..', '.')\n",
    "print(a)"
   ]
  },
  {
   "cell_type": "markdown",
   "id": "97ed088f",
   "metadata": {},
   "source": [
    "### 좌∙우측 특정 문자 제거"
   ]
  },
  {
   "cell_type": "code",
   "execution_count": 6,
   "id": "70d671d1",
   "metadata": {},
   "outputs": [
    {
     "name": "stdout",
     "output_type": "stream",
     "text": [
      "HelloWorld!\n",
      ".HelloWorld\n",
      "Hello\n"
     ]
    }
   ],
   "source": [
    "a = \".HelloWorld!\"\n",
    "print(a.lstrip('.'))\n",
    "print(a.rstrip('!'))\n",
    "a = \".Hello.\"\n",
    "print(a.strip('.'))"
   ]
  },
  {
   "cell_type": "markdown",
   "id": "f04d6572",
   "metadata": {},
   "source": [
    "### 정규 표현식\n",
    "    - 알파벳 모두 : [a-zA-Z]\n",
    "    - 숫자 : [0-9]\n",
    "    - \\d : 숫자와 매치, [0-9]와 동일한 표현식이다.\n",
    "    - \\D : 숫자가 아닌 것과 매치, [^0-9]와 동일한 표현식이다.\n",
    "    - \\s : whitespace 문자와 매치, [ \\t\\n\\r\\f\\v]와 동일한 표현식이다. 맨 앞의 빈 칸은 공백문자(space)를 의미한다.\n",
    "    - \\S : whitespace 문자가 아닌 것과 매치, [^ \\t\\n\\r\\f\\v]와 동일한 표현식이다.\n",
    "    - \\w : 문자+숫자(alphanumeric)와 매치, [a-zA-Z0-9_]와 동일한 표현식이다.\n",
    "    - \\W : 문자+숫자(alphanumeric)가 아닌 문자와 매치, [^a-zA-Z0-9_]와 동일한 표현식이다."
   ]
  },
  {
   "cell_type": "code",
   "execution_count": 10,
   "id": "efe6eabe",
   "metadata": {},
   "outputs": [
    {
     "name": "stdout",
     "output_type": "stream",
     "text": [
      "123abc./_\n"
     ]
    }
   ],
   "source": [
    "import re\n",
    "\n",
    "a = \"123abc./*_*\"\n",
    "possible = re.compile('[a-z0-9_./]+')\n",
    "a = possible.findall(a)\n",
    "a = ''.join(a)\n",
    "print(a)"
   ]
  },
  {
   "cell_type": "code",
   "execution_count": null,
   "id": "01025d14",
   "metadata": {},
   "outputs": [],
   "source": []
  }
 ],
 "metadata": {
  "kernelspec": {
   "display_name": "Python 3 (ipykernel)",
   "language": "python",
   "name": "python3"
  },
  "language_info": {
   "codemirror_mode": {
    "name": "ipython",
    "version": 3
   },
   "file_extension": ".py",
   "mimetype": "text/x-python",
   "name": "python",
   "nbconvert_exporter": "python",
   "pygments_lexer": "ipython3",
   "version": "3.9.10"
  }
 },
 "nbformat": 4,
 "nbformat_minor": 5
}
