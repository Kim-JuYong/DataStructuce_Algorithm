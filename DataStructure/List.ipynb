{
 "cells": [
  {
   "cell_type": "markdown",
   "id": "878da510",
   "metadata": {},
   "source": [
    "# List\n",
    "---\n",
    "- 데이터를 나열하고, 각 데이터를 인덱스에 대응하도록 구성한 데이터 구조\n",
    "- 파이썬에서는 리스트안에 어떤 자료형도 포함시킬 수 있음"
   ]
  },
  {
   "cell_type": "code",
   "execution_count": 11,
   "id": "e9a06bc3",
   "metadata": {},
   "outputs": [],
   "source": [
    "a = []\n",
    "b = [1, 2, 3]\n",
    "c = [1, 2, 3, \"Hello\", \"World\"]"
   ]
  },
  {
   "cell_type": "markdown",
   "id": "4c160ab2",
   "metadata": {},
   "source": [
    "# 리스트 인덱싱과 슬라이싱\n",
    "---\n",
    "- 리스트 요소에 인덱스로 접근 가능\n",
    "- 리스트 요소들에 인덱스로 슬라이싱 가능 \n",
    "- 슬라이싱을 이용하여 배열 뒤집기 가능"
   ]
  },
  {
   "cell_type": "code",
   "execution_count": 12,
   "id": "7999127c",
   "metadata": {},
   "outputs": [
    {
     "name": "stdout",
     "output_type": "stream",
     "text": [
      "1\n",
      "6\n",
      "[3, 4, 5]\n",
      "[6, 5, 4, 3, 2, 1]\n"
     ]
    }
   ],
   "source": [
    "a = [1, 2, 3, 4, 5, 6]\n",
    "print(a[0]) #배열의 첫번째 요소 접근\n",
    "print(a[-1]) #배열의 마지막 요소 접근\n",
    "print(a[2:5]) #슬라이싱\n",
    "print(a[::-1]) #뒤집기"
   ]
  },
  {
   "cell_type": "markdown",
   "id": "3bcd4920",
   "metadata": {},
   "source": [
    "# 리스트 연산\n",
    "---\n",
    "- \\+ : 2개의 리스트를 합쳐서 새 리스트 생성\n",
    "- \\* : 곱해진 정수만큼 해당 리스트를 반복하여 새 리스트 생성\n",
    "- len( ): 리스트의 길이를 반환"
   ]
  },
  {
   "cell_type": "code",
   "execution_count": 13,
   "id": "3eb6fa6b",
   "metadata": {},
   "outputs": [
    {
     "name": "stdout",
     "output_type": "stream",
     "text": [
      "[1, 2, 3, 4, 5, 6]\n",
      "[1, 2, 3, 1, 2, 3, 1, 2, 3]\n",
      "3 3\n"
     ]
    }
   ],
   "source": [
    "a = [1, 2, 3]\n",
    "b = [4, 5, 6]\n",
    "print(a + b) #'+'\n",
    "print(a * 3) #'*'\n",
    "print(len(a), len(b)) #len()"
   ]
  },
  {
   "cell_type": "markdown",
   "id": "6d3eb20b",
   "metadata": {},
   "source": [
    "# 리스트에 제공되는 함수들\n",
    "---\n",
    "- 리스트에 요소 추가: list.append(element)\n",
    "- 리스트에 요소 제거: list.remove(element) -> 맨 앞에 있는 element삭제\n",
    "- 원하는 인덱스에 요소 제거: del list[index]\n",
    "- 리스트 정렬: list.sort()\n",
    "- 리스트 뒤집기: list.reverse()\n",
    "- 요소 인덱스 찾기: list.index(element)\n",
    "- 원하는 인덱스에 요소 추가: list.insert(index, element)\n",
    "- 리스트 요소 꺼내기: list.pop(index) -> default는 index=0\n",
    "- 리스트에 포함된 특정 요소 개수 세기:  list.count(element)\n",
    "- 리스트 확장: list.extend(list2) -> '+' 연산과 동일"
   ]
  },
  {
   "cell_type": "code",
   "execution_count": 15,
   "id": "ba5dd344",
   "metadata": {},
   "outputs": [
    {
     "name": "stdout",
     "output_type": "stream",
     "text": [
      "[1, 2, 3, 4]\n",
      "[1, 3, 4]\n",
      "[1, 4]\n",
      "[1, 2, 3, 4]\n",
      "[4, 3, 2, 1]\n",
      "3\n",
      "[4, 3, 2]\n",
      "2\n",
      "[1, 1, 2, 2, 3, 'Hello', 'World']\n"
     ]
    }
   ],
   "source": [
    "a = [1, 2, 3]\n",
    "\n",
    "a.append(4) #추가\n",
    "print(a)\n",
    "\n",
    "a.remove(2) #삭제\n",
    "print(a)\n",
    "\n",
    "del a[1] #인덱스 요소 제거\n",
    "print(a)\n",
    "\n",
    "a = [4, 1, 2, 3] #정렬\n",
    "a.sort()\n",
    "print(a)\n",
    "\n",
    "a.reverse() #뒤집기\n",
    "print(a)\n",
    "\n",
    "print(a.index(1)) #요소 인덱스 찾기\n",
    "\n",
    "a.pop() #요소 꺼내기\n",
    "print(a)\n",
    "\n",
    "a = [1, 1, 2, 2, 3]\n",
    "print(a.count(1)) #요소 개수 세기\n",
    "\n",
    "a.extend([\"Hello\", \"World\"]) #리스트 확장\n",
    "print(a)\n"
   ]
  },
  {
   "cell_type": "code",
   "execution_count": null,
   "id": "93d4f718",
   "metadata": {},
   "outputs": [],
   "source": []
  }
 ],
 "metadata": {
  "kernelspec": {
   "display_name": "Python 3 (ipykernel)",
   "language": "python",
   "name": "python3"
  },
  "language_info": {
   "codemirror_mode": {
    "name": "ipython",
    "version": 3
   },
   "file_extension": ".py",
   "mimetype": "text/x-python",
   "name": "python",
   "nbconvert_exporter": "python",
   "pygments_lexer": "ipython3",
   "version": "3.9.9"
  }
 },
 "nbformat": 4,
 "nbformat_minor": 5
}
