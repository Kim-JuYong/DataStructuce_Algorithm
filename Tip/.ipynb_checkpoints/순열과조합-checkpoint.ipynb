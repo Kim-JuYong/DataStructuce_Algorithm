{
 "cells": [
  {
   "cell_type": "markdown",
   "id": "f14de587",
   "metadata": {},
   "source": [
    "# 순열과 조합\n",
    "---\n",
    "### 순열: permutations\n",
    "---"
   ]
  },
  {
   "cell_type": "code",
   "execution_count": 1,
   "id": "e750839f",
   "metadata": {},
   "outputs": [
    {
     "name": "stdout",
     "output_type": "stream",
     "text": [
      "[(1, 2), (1, 3), (1, 4), (2, 1), (2, 3), (2, 4), (3, 1), (3, 2), (3, 4), (4, 1), (4, 2), (4, 3)]\n"
     ]
    }
   ],
   "source": [
    "from itertools import permutations\n",
    "\n",
    "ret = []\n",
    "for i in permutations([1,2,3,4], 2):\n",
    "    ret.append(i)\n",
    "print(ret)"
   ]
  },
  {
   "cell_type": "markdown",
   "id": "56323ee5",
   "metadata": {},
   "source": [
    "### 조합: combinations\n",
    "---"
   ]
  },
  {
   "cell_type": "code",
   "execution_count": 2,
   "id": "cfb6a309",
   "metadata": {},
   "outputs": [
    {
     "name": "stdout",
     "output_type": "stream",
     "text": [
      "[(1, 2), (1, 3), (1, 4), (2, 3), (2, 4), (3, 4)]\n"
     ]
    }
   ],
   "source": [
    "from itertools import combinations\n",
    "\n",
    "ret = []\n",
    "for i in combinations([1,2,3,4], 2):\n",
    "    ret.append(i)\n",
    "print(ret)"
   ]
  },
  {
   "cell_type": "markdown",
   "id": "118ae422",
   "metadata": {},
   "source": [
    "### 중복 순열: product\n",
    "---"
   ]
  },
  {
   "cell_type": "code",
   "execution_count": 5,
   "id": "6271f223",
   "metadata": {},
   "outputs": [
    {
     "name": "stdout",
     "output_type": "stream",
     "text": [
      "[(1, 'a'), (1, 'b'), (2, 'a'), (2, 'b'), (3, 'a'), (3, 'b')]\n",
      "[(1, 1), (1, 2), (1, 3), (2, 1), (2, 2), (2, 3), (3, 1), (3, 2), (3, 3)]\n"
     ]
    }
   ],
   "source": [
    "from itertools import product\n",
    "\n",
    "ret = []\n",
    "for i in product([1,2,3],'ab'):\n",
    "    ret.append(i)\n",
    "print(ret)\n",
    "\n",
    "ret = []\n",
    "for i in product([1,2,3], repeat=2):\n",
    "    ret.append(i)\n",
    "print(ret)"
   ]
  },
  {
   "cell_type": "markdown",
   "id": "e776af53",
   "metadata": {},
   "source": [
    "### 중복 조합: combinations_with_replacement"
   ]
  },
  {
   "cell_type": "code",
   "execution_count": 6,
   "id": "11e140e2",
   "metadata": {},
   "outputs": [
    {
     "name": "stdout",
     "output_type": "stream",
     "text": [
      "[(1, 1), (1, 2), (1, 3), (1, 4), (2, 2), (2, 3), (2, 4), (3, 3), (3, 4), (4, 4)]\n"
     ]
    }
   ],
   "source": [
    "from itertools import combinations_with_replacement\n",
    "\n",
    "ret = []\n",
    "for i in combinations_with_replacement([1,2,3,4], 2):\n",
    "    ret.append(i)\n",
    "print(ret)"
   ]
  }
 ],
 "metadata": {
  "kernelspec": {
   "display_name": "Python 3 (ipykernel)",
   "language": "python",
   "name": "python3"
  },
  "language_info": {
   "codemirror_mode": {
    "name": "ipython",
    "version": 3
   },
   "file_extension": ".py",
   "mimetype": "text/x-python",
   "name": "python",
   "nbconvert_exporter": "python",
   "pygments_lexer": "ipython3",
   "version": "3.9.9"
  }
 },
 "nbformat": 4,
 "nbformat_minor": 5
}
